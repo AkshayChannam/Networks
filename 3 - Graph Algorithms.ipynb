{
 "cells": [
  {
   "cell_type": "markdown",
   "metadata": {},
   "source": [
    "<div style=\"width: 100%; overflow: hidden;\">\n",
    "    <div style=\"width: 150px; float: left;\"> <img src=\"data/D4Sci_logo_ball.png\" alt=\"Data For Science, Inc\" align=\"left\" border=\"0\"> </div>\n",
    "    <div style=\"float: left; margin-left: 10px;\"> <h1>Graphs and Networks</h1>\n",
    "<h2>Lesson III - Graph Algorithms</h2>\n",
    "        <p>Bruno Gonçalves<br/>\n",
    "        <a href=\"http://www.data4sci.com/\">www.data4sci.com</a><br/>\n",
    "            @bgoncalves, @data4sci</p></div>\n",
    "</div>"
   ]
  },
  {
   "cell_type": "code",
   "execution_count": 1,
   "metadata": {},
   "outputs": [],
   "source": [
    "from collections import Counter\n",
    "from pprint import pprint\n",
    "\n",
    "import numpy as np\n",
    "import matplotlib.pyplot as plt \n",
    "\n",
    "import watermark\n",
    "\n",
    "%load_ext watermark\n",
    "%matplotlib inline"
   ]
  },
  {
   "cell_type": "markdown",
   "metadata": {},
   "source": [
    "Watermark the notebook with current versions of all loaded libraries"
   ]
  },
  {
   "cell_type": "code",
   "execution_count": 2,
   "metadata": {},
   "outputs": [
    {
     "name": "stdout",
     "output_type": "stream",
     "text": [
      "matplotlib 3.1.0\n",
      "watermark  1.8.1\n",
      "numpy      1.16.2\n",
      "Wed Sep 25 2019 \n",
      "\n",
      "CPython 3.7.3\n",
      "IPython 6.2.1\n",
      "\n",
      "compiler   : Clang 4.0.1 (tags/RELEASE_401/final)\n",
      "system     : Darwin\n",
      "release    : 18.7.0\n",
      "machine    : x86_64\n",
      "processor  : i386\n",
      "CPU cores  : 8\n",
      "interpreter: 64bit\n",
      "Git hash   : 90797a3cf60135c58852867b0490dde3aa2fedb5\n"
     ]
    }
   ],
   "source": [
    "%watermark -n -v -m -g -iv"
   ]
  },
  {
   "cell_type": "markdown",
   "metadata": {},
   "source": [
    "We import the previous Graph Class definition"
   ]
  },
  {
   "cell_type": "code",
   "execution_count": 3,
   "metadata": {},
   "outputs": [],
   "source": [
    "from Graph import *"
   ]
  },
  {
   "cell_type": "code",
   "execution_count": 4,
   "metadata": {},
   "outputs": [],
   "source": [
    "G = Graph()"
   ]
  },
  {
   "cell_type": "code",
   "execution_count": 5,
   "metadata": {},
   "outputs": [
    {
     "data": {
      "text/plain": [
       "['__class__',\n",
       " '__delattr__',\n",
       " '__dict__',\n",
       " '__dir__',\n",
       " '__doc__',\n",
       " '__eq__',\n",
       " '__format__',\n",
       " '__ge__',\n",
       " '__getattribute__',\n",
       " '__gt__',\n",
       " '__hash__',\n",
       " '__init__',\n",
       " '__init_subclass__',\n",
       " '__le__',\n",
       " '__lt__',\n",
       " '__module__',\n",
       " '__ne__',\n",
       " '__new__',\n",
       " '__reduce__',\n",
       " '__reduce_ex__',\n",
       " '__repr__',\n",
       " '__setattr__',\n",
       " '__sizeof__',\n",
       " '__str__',\n",
       " '__subclasshook__',\n",
       " '__weakref__',\n",
       " '_build_distribution',\n",
       " '_directed',\n",
       " '_edges',\n",
       " '_nodes',\n",
       " 'add_edge',\n",
       " 'add_edges_from',\n",
       " 'add_node',\n",
       " 'add_nodes_from',\n",
       " 'degree_distribution',\n",
       " 'degrees',\n",
       " 'edges',\n",
       " 'is_directed',\n",
       " 'neighbour_degree',\n",
       " 'neighbour_degree_function',\n",
       " 'neighbours',\n",
       " 'number_of_edges',\n",
       " 'number_of_nodes',\n",
       " 'weight_distribution',\n",
       " 'weights']"
      ]
     },
     "execution_count": 5,
     "metadata": {},
     "output_type": "execute_result"
    }
   ],
   "source": [
    "dir(G)"
   ]
  },
  {
   "cell_type": "markdown",
   "metadata": {},
   "source": [
    "# Graph Models"
   ]
  },
  {
   "cell_type": "markdown",
   "metadata": {},
   "source": [
    "## Erdős-Rényi "
   ]
  },
  {
   "cell_type": "markdown",
   "metadata": {},
   "source": [
    "Graph models are simple algorithms to generate graph topologies. We start with Erdős-Rényi model where each pair of nodes is added with a fixed probability"
   ]
  },
  {
   "cell_type": "code",
   "execution_count": 6,
   "metadata": {},
   "outputs": [],
   "source": [
    "@add_method(Graph)\n",
    "def erdos_renyi_graph(N, p):\n",
    "    nodes = list(range(N))\n",
    "    edges = []\n",
    "    \n",
    "    for i in range(N):\n",
    "        for j in range(i+1, N):\n",
    "            if np.random.random() < p:\n",
    "                edges.append((i, j))\n",
    "    \n",
    "    G = Graph()\n",
    "    G.add_nodes_from(nodes)\n",
    "    G.add_edges_from(edges)\n",
    "\n",
    "    return G"
   ]
  },
  {
   "cell_type": "markdown",
   "metadata": {},
   "source": [
    "Let's generate a relatively small ER graph"
   ]
  },
  {
   "cell_type": "code",
   "execution_count": 7,
   "metadata": {},
   "outputs": [],
   "source": [
    "ER = Graph.erdos_renyi_graph(10000, 0.01)"
   ]
  },
  {
   "cell_type": "markdown",
   "metadata": {},
   "source": [
    "With these parameters, we expect the average degree to be $\\langle k\\rangle=Np=100$ and the distribution to be approximately Gaussian. We start by generating the degre distribution"
   ]
  },
  {
   "cell_type": "code",
   "execution_count": 8,
   "metadata": {},
   "outputs": [],
   "source": [
    "Pk = ER.degree_distribution()"
   ]
  },
  {
   "cell_type": "markdown",
   "metadata": {},
   "source": [
    "And make a quick plot to verify it's shape"
   ]
  },
  {
   "cell_type": "code",
   "execution_count": 9,
   "metadata": {},
   "outputs": [
    {
     "data": {
      "image/png": "[encoded data removed]",
      "text/plain": [
       "<Figure size 792x576 with 1 Axes>"
      ]
     },
     "metadata": {
      "needs_background": "light"
     },
     "output_type": "display_data"
    }
   ],
   "source": [
    "plt.plot(Pk.T[0], Pk.T[1])\n",
    "plt.xlabel('k')\n",
    "plt.ylabel('P(k)')\n",
    "plt.gcf().set_size_inches(11, 8)"
   ]
  },
  {
   "cell_type": "markdown",
   "metadata": {},
   "source": [
    "Finally, the average degree is, simply:\n",
    "\n",
    "$$\\langle k \\rangle=\\sum_k k P(k)$$"
   ]
  },
  {
   "cell_type": "code",
   "execution_count": 10,
   "metadata": {},
   "outputs": [
    {
     "name": "stdout",
     "output_type": "stream",
     "text": [
      "99.8232\n"
     ]
    }
   ],
   "source": [
    "kavg = np.dot(Pk.T[0], Pk.T[1])\n",
    "print(kavg)"
   ]
  },
  {
   "cell_type": "markdown",
   "metadata": {},
   "source": [
    "## Regular Ring"
   ]
  },
  {
   "cell_type": "markdown",
   "metadata": {},
   "source": [
    "We now proceed to defining a regular ring graph where each node is connected with K/2 neighbors on the left and K/2 neighbours on the right. This will be a stepping stone towards the full fledged Watts-Strogats model"
   ]
  },
  {
   "cell_type": "code",
   "execution_count": 11,
   "metadata": {},
   "outputs": [],
   "source": [
    "@add_method(Graph)\n",
    "def ring_graph(N, K):\n",
    "    nodes = np.arange(N)\n",
    "    edges = []\n",
    "    \n",
    "    K = K//2\n",
    "    \n",
    "    for i in range(N):\n",
    "        for j in range(i+1, i+K+1):\n",
    "            edges.append((i, j%N))\n",
    "        \n",
    "    G = Graph()\n",
    "    G.add_nodes_from(nodes)\n",
    "    G.add_edges_from(edges)\n",
    "    \n",
    "    return G"
   ]
  },
  {
   "cell_type": "markdown",
   "metadata": {},
   "source": [
    "To generate a small regular ring we simply do"
   ]
  },
  {
   "cell_type": "code",
   "execution_count": 12,
   "metadata": {},
   "outputs": [],
   "source": [
    "RG = Graph.ring_graph(100, 4)"
   ]
  },
  {
   "cell_type": "markdown",
   "metadata": {},
   "source": [
    "Naturally the degree distribution is pretty simple"
   ]
  },
  {
   "cell_type": "code",
   "execution_count": 13,
   "metadata": {},
   "outputs": [],
   "source": [
    "Pk = RG.degree_distribution()"
   ]
  },
  {
   "cell_type": "markdown",
   "metadata": {},
   "source": [
    "With all nodes having degree 4"
   ]
  },
  {
   "cell_type": "code",
   "execution_count": 14,
   "metadata": {},
   "outputs": [
    {
     "data": {
      "text/plain": [
       "array([[4., 1.]])"
      ]
     },
     "execution_count": 14,
     "metadata": {},
     "output_type": "execute_result"
    }
   ],
   "source": [
    "Pk"
   ]
  },
  {
   "cell_type": "markdown",
   "metadata": {},
   "source": [
    "## Watts-Strogatz model"
   ]
  },
  {
   "cell_type": "markdown",
   "metadata": {},
   "source": [
    "The first step towards defining a WS model is to implementing the rewiring procedure. This takes an existing graph and randomly rewires it's edges with probability $p$"
   ]
  },
  {
   "cell_type": "code",
   "execution_count": 15,
   "metadata": {},
   "outputs": [],
   "source": [
    "@add_method(Graph)\n",
    "def _rewire(self, p):\n",
    "    node_labels = list(self._nodes.keys())\n",
    "    nodes = dict(zip(node_labels, range(len(node_labels))))\n",
    "    \n",
    "    edges = self.edges()\n",
    "        \n",
    "    for node_i, node_j, data in edges:\n",
    "        if nodes[node_j] > nodes[node_i]: # Make sure we just rewire one end of the edge\n",
    "            prob = np.random.random()\n",
    "\n",
    "            if prob < p:\n",
    "                new_node_j = node_labels[np.random.randint(len(node_labels))]\n",
    "                self._edges[node_i][new_node_j] = self._edges[node_i][node_j]\n",
    "                self._edges[node_i].pop(node_j)\n",
    "\n",
    "                self._edges[new_node_j][node_i] = self._edges[node_j][node_i]\n",
    "                self._edges[node_j].pop(node_i)"
   ]
  },
  {
   "cell_type": "markdown",
   "metadata": {},
   "source": [
    "So if we apply it to the previous graph, we significantly impact the degree distribution"
   ]
  },
  {
   "cell_type": "code",
   "execution_count": 16,
   "metadata": {},
   "outputs": [],
   "source": [
    "RG = Graph.ring_graph(10000, 4)\n",
    "RG._rewire(0.3)\n",
    "Pk = RG.degree_distribution()"
   ]
  },
  {
   "cell_type": "markdown",
   "metadata": {},
   "source": [
    "Which is now significantly broader while still peaked at 4"
   ]
  },
  {
   "cell_type": "code",
   "execution_count": 17,
   "metadata": {},
   "outputs": [
    {
     "data": {
      "image/png": "[encoded data removed]",
      "text/plain": [
       "<Figure size 792x576 with 1 Axes>"
      ]
     },
     "metadata": {
      "needs_background": "light"
     },
     "output_type": "display_data"
    }
   ],
   "source": [
    "plt.plot(Pk.T[0], Pk.T[1])\n",
    "plt.xlabel('k')\n",
    "plt.ylabel('P(k)')\n",
    "plt.gcf().set_size_inches(11, 8)"
   ]
  },
  {
   "cell_type": "markdown",
   "metadata": {},
   "source": [
    "The Watts-Strogatz model is then, simply"
   ]
  },
  {
   "cell_type": "code",
   "execution_count": 18,
   "metadata": {},
   "outputs": [],
   "source": [
    "@add_method(Graph)\n",
    "def watts_strogatz_graph(N, K, p):\n",
    "    G = Graph.ring_graph(N, K)\n",
    "    G._rewire(p)\n",
    "    \n",
    "    return G"
   ]
  },
  {
   "cell_type": "markdown",
   "metadata": {},
   "source": [
    "## Barabasi-Albert model"
   ]
  },
  {
   "cell_type": "markdown",
   "metadata": {},
   "source": [
    "For the sake of completeness we also implement the Barabasi-Albert model in the simple case where we start with 3 fully connected nodes and add one edge at each time step"
   ]
  },
  {
   "cell_type": "code",
   "execution_count": 19,
   "metadata": {},
   "outputs": [],
   "source": [
    "@add_method(Graph)\n",
    "def barabasi_albert_graph(N):\n",
    "    G = Graph()\n",
    "\n",
    "    nodes = range(N)\n",
    "    G.add_nodes_from(nodes)\n",
    "\n",
    "    edges = [0,1,1,2,2,0]\n",
    "\n",
    "    for node_i in range(3, N):\n",
    "        pos = np.random.randint(len(edges))\n",
    "        node_j = edges[pos]\n",
    "\n",
    "        edges.append(node_i)\n",
    "        edges.append(node_j)\n",
    "\n",
    "    edges = zip(nodes, edges[1::2])\n",
    "\n",
    "    G.add_edges_from(edges)\n",
    "\n",
    "    return G"
   ]
  },
  {
   "cell_type": "markdown",
   "metadata": {},
   "source": [
    "As expected, the degree distribution is broad tailed"
   ]
  },
  {
   "cell_type": "code",
   "execution_count": 20,
   "metadata": {},
   "outputs": [],
   "source": [
    "BA = Graph.barabasi_albert_graph(100000)\n",
    "Pk = BA.degree_distribution()"
   ]
  },
  {
   "cell_type": "code",
   "execution_count": 21,
   "metadata": {},
   "outputs": [
    {
     "data": {
      "image/png": "[encoded data removed]",
      "text/plain": [
       "<Figure size 792x576 with 1 Axes>"
      ]
     },
     "metadata": {
      "needs_background": "light"
     },
     "output_type": "display_data"
    }
   ],
   "source": [
    "plt.loglog(Pk.T[0], Pk.T[1])\n",
    "plt.xlabel('k')\n",
    "plt.ylabel('P(k)')\n",
    "plt.gcf().set_size_inches(11, 8)"
   ]
  },
  {
   "cell_type": "markdown",
   "metadata": {},
   "source": [
    "# Viral Spreading"
   ]
  },
  {
   "cell_type": "markdown",
   "metadata": {},
   "source": [
    "We now consider the case of viral spreading on a network. This is a similar process to what you might observe in the case of rumor or inovation spreading in a social network. At each step, the \"healthy\" neighbors of any of the infectious nodes gets infected with fixed probability $p$. We also keep track of every configuration for later analysis"
   ]
  },
  {
   "cell_type": "code",
   "execution_count": 22,
   "metadata": {},
   "outputs": [],
   "source": [
    "@add_method(Graph)\n",
    "def viral(self, beta, timesteps, seed):\n",
    "    N = len(self._nodes)\n",
    "\n",
    "    configuration = np.zeros((timesteps, N), dtype='int')\n",
    "    configuration[0, seed] = 1\n",
    "\n",
    "    for t in range(0, timesteps-1):\n",
    "        configuration[t+1] = np.copy(configuration[t])\n",
    "\n",
    "        for i in range(N):\n",
    "            if configuration[t][i] == 1:\n",
    "                for neighbour in self.neighbours(i):\n",
    "                    if configuration[t][neighbour] == 0:\n",
    "                        prob = np.random.random()\n",
    "\n",
    "                        if prob < beta:\n",
    "                            configuration[t+1][neighbour] = 1\n",
    "\n",
    "                        break\n",
    "\n",
    "    return configuration"
   ]
  },
  {
   "cell_type": "markdown",
   "metadata": {},
   "source": [
    "And we make a quick comparison of how innovations spread in two simple networks, ER and WS"
   ]
  },
  {
   "cell_type": "code",
   "execution_count": 23,
   "metadata": {},
   "outputs": [],
   "source": [
    "WS = Graph.watts_strogatz_graph(100, 4, 0.02)\n",
    "ER = Graph.erdos_renyi_graph(100, 0.1)"
   ]
  },
  {
   "cell_type": "markdown",
   "metadata": {},
   "source": [
    "We start the infection from a randomly chosen location"
   ]
  },
  {
   "cell_type": "code",
   "execution_count": 24,
   "metadata": {},
   "outputs": [],
   "source": [
    "seed = np.random.randint(100)"
   ]
  },
  {
   "cell_type": "markdown",
   "metadata": {},
   "source": [
    "And capture all the configurations over the course of 100 timesteps"
   ]
  },
  {
   "cell_type": "code",
   "execution_count": 25,
   "metadata": {},
   "outputs": [],
   "source": [
    "WS_configuration = WS.viral(0.1, 100, seed)\n",
    "ER_configuration = ER.viral(0.1, 100, seed)"
   ]
  },
  {
   "cell_type": "code",
   "execution_count": 26,
   "metadata": {},
   "outputs": [
    {
     "data": {
      "text/plain": [
       "array([[0, 0, 0, ..., 0, 0, 0],\n",
       "       [0, 0, 0, ..., 0, 0, 0],\n",
       "       [0, 0, 0, ..., 0, 0, 0],\n",
       "       ...,\n",
       "       [1, 1, 1, ..., 1, 1, 1],\n",
       "       [1, 1, 1, ..., 1, 1, 1],\n",
       "       [1, 1, 1, ..., 1, 1, 1]])"
      ]
     },
     "execution_count": 26,
     "metadata": {},
     "output_type": "execute_result"
    }
   ],
   "source": [
    "WS_configuration"
   ]
  },
  {
   "cell_type": "markdown",
   "metadata": {},
   "source": [
    "When we plot them side by side, the difference becomes clear with ER showing the \"infection\" spreading randomly across the network and the WS infection being more limited to a specific area of the graph until it encounters a long range link"
   ]
  },
  {
   "cell_type": "code",
   "execution_count": 27,
   "metadata": {},
   "outputs": [
    {
     "data": {
      "text/plain": [
       "Text(0.5, 1.0, 'Watts-Strogatz')"
      ]
     },
     "execution_count": 27,
     "metadata": {},
     "output_type": "execute_result"
    },
    {
     "data": {
      "image/png": "[encoded data removed]",
      "text/plain": [
       "<Figure size 1152x576 with 2 Axes>"
      ]
     },
     "metadata": {
      "needs_background": "light"
     },
     "output_type": "display_data"
    }
   ],
   "source": [
    "fig, ax_lst = plt.subplots(1, 2, figsize=(16, 8))\n",
    "ax_lst[0].imshow(ER_configuration.T, aspect='auto')\n",
    "ax_lst[0].set_xlabel('time')\n",
    "ax_lst[0].set_ylabel('node')\n",
    "ax_lst[0].set_title('Erdos-Renyi')\n",
    "\n",
    "ax_lst[1].imshow(WS_configuration.T, aspect='auto')\n",
    "ax_lst[1].set_xlabel('time')\n",
    "ax_lst[1].set_ylabel('node')\n",
    "ax_lst[1].set_title('Watts-Strogatz')"
   ]
  },
  {
   "cell_type": "markdown",
   "metadata": {},
   "source": [
    "The differences are also striking when we look at the number of reached individuals as a function of time, with ER networks being significantly faster"
   ]
  },
  {
   "cell_type": "code",
   "execution_count": 28,
   "metadata": {},
   "outputs": [
    {
     "data": {
      "image/png": "[encoded data removed]",
      "text/plain": [
       "<Figure size 792x576 with 1 Axes>"
      ]
     },
     "metadata": {
      "needs_background": "light"
     },
     "output_type": "display_data"
    }
   ],
   "source": [
    "plt.plot(np.sum(ER_configuration, axis=1), label='Erdos Renyi')\n",
    "plt.plot(np.sum(WS_configuration, axis=1), label=\"Watts-Strogatz\")\n",
    "plt.title('Number of Infected nodes')\n",
    "plt.xlabel('nodes')\n",
    "plt.ylabel('time')\n",
    "plt.legend()\n",
    "plt.gcf().set_size_inches(11, 8)"
   ]
  },
  {
   "cell_type": "markdown",
   "metadata": {},
   "source": [
    "# Random Walks and Paths"
   ]
  },
  {
   "cell_type": "markdown",
   "metadata": {},
   "source": [
    "As we saw, a path on a graph is simply a sequence of visited nodes. Here we implement a simple random_walk over a graph to generate the sequence of visited nodes. "
   ]
  },
  {
   "cell_type": "code",
   "execution_count": 29,
   "metadata": {},
   "outputs": [],
   "source": [
    "@add_method(Graph)\n",
    "def random_walk(self, source, steps):\n",
    "    path = [source]\n",
    "    \n",
    "    for i in range(steps):\n",
    "        source = path[-1]\n",
    "        NN = [node for node in self._edges[source]]\n",
    "        \n",
    "        chosen = NN[np.random.randint(len(NN))]\n",
    "        path.append(chosen)\n",
    "        \n",
    "    return path"
   ]
  },
  {
   "cell_type": "markdown",
   "metadata": {},
   "source": [
    "We generate a path of 1,000,000 steps"
   ]
  },
  {
   "cell_type": "code",
   "execution_count": 30,
   "metadata": {},
   "outputs": [],
   "source": [
    "path = BA.random_walk(0, 1000000)"
   ]
  },
  {
   "cell_type": "markdown",
   "metadata": {},
   "source": [
    "And count how many times each node is visited"
   ]
  },
  {
   "cell_type": "code",
   "execution_count": 31,
   "metadata": {},
   "outputs": [],
   "source": [
    "visits = Counter(path)\n",
    "counts = list(visits.items())\n",
    "counts.sort(key=lambda x:x[1], reverse=True)"
   ]
  },
  {
   "cell_type": "markdown",
   "metadata": {},
   "source": [
    "The top 10 most visited nodes are:"
   ]
  },
  {
   "cell_type": "code",
   "execution_count": 32,
   "metadata": {},
   "outputs": [
    {
     "data": {
      "text/plain": [
       "[(7, 3355),\n",
       " (53, 2344),\n",
       " (24, 2289),\n",
       " (69, 2235),\n",
       " (0, 2180),\n",
       " (20, 1102),\n",
       " (31, 1095),\n",
       " (90, 998),\n",
       " (187, 966),\n",
       " (1078, 935)]"
      ]
     },
     "execution_count": 32,
     "metadata": {},
     "output_type": "execute_result"
    }
   ],
   "source": [
    "counts[:10]"
   ]
  },
  {
   "cell_type": "markdown",
   "metadata": {},
   "source": [
    "For comparison, their degrees are:"
   ]
  },
  {
   "cell_type": "code",
   "execution_count": 33,
   "metadata": {},
   "outputs": [
    {
     "name": "stdout",
     "output_type": "stream",
     "text": [
      "7 397 3355\n",
      "53 171 2344\n",
      "24 212 2289\n",
      "69 153 2235\n",
      "0 285 2180\n",
      "20 62 1102\n",
      "31 83 1095\n",
      "90 87 998\n",
      "187 99 966\n",
      "1078 62 935\n"
     ]
    }
   ],
   "source": [
    "deg = BA.degrees()\n",
    "top10 = [i for i, j in counts[:10]]\n",
    "\n",
    "for i, node in enumerate(top10):\n",
    "    print(node, deg[node], counts[i][1])"
   ]
  },
  {
   "cell_type": "markdown",
   "metadata": {},
   "source": [
    "And we clearly see that the number of visits is strongly correlated with the node degree. To make it clearer"
   ]
  },
  {
   "cell_type": "code",
   "execution_count": 34,
   "metadata": {},
   "outputs": [
    {
     "data": {
      "image/png": "[encoded data removed]",
      "text/plain": [
       "<Figure size 792x576 with 1 Axes>"
      ]
     },
     "metadata": {
      "needs_background": "light"
     },
     "output_type": "display_data"
    }
   ],
   "source": [
    "data = []\n",
    "\n",
    "for node in deg:\n",
    "    data.append((deg[node], visits[node]))\n",
    "    \n",
    "data = np.array(data)\n",
    "\n",
    "plt.plot(data.T[0], data.T[1], '*')\n",
    "plt.xlabel('degree')\n",
    "plt.ylabel('visits')\n",
    "plt.gcf().set_size_inches(11, 8)"
   ]
  },
  {
   "cell_type": "markdown",
   "metadata": {},
   "source": [
    "# PageRank"
   ]
  },
  {
   "cell_type": "markdown",
   "metadata": {},
   "source": [
    "The first step is generating the Google Matrix of the graph. For this we require the adjacency matrix, so we start there"
   ]
  },
  {
   "cell_type": "code",
   "execution_count": 35,
   "metadata": {},
   "outputs": [],
   "source": [
    "@add_method(Graph)\n",
    "def adjacency_matrix(self):\n",
    "    N = len(self._nodes)\n",
    "    A = np.zeros((N, N), dtype='float')\n",
    "    \n",
    "    for node_i in self._edges:\n",
    "        for node_j in self._edges[node_i]:\n",
    "            A[node_i, node_j] = 1\n",
    "            \n",
    "    return A"
   ]
  },
  {
   "cell_type": "markdown",
   "metadata": {},
   "source": [
    "The Google Matrix is then given by:"
   ]
  },
  {
   "cell_type": "code",
   "execution_count": 36,
   "metadata": {},
   "outputs": [],
   "source": [
    "@add_method(Graph)\n",
    "def google_matrix(self, m):\n",
    "    A = self.adjacency_matrix()\n",
    "    N = A.shape[0]\n",
    "    v = np.ones(N)\n",
    "\n",
    "    KT = np.dot(A, v)\n",
    "    A = A.T\n",
    "\n",
    "    for i in range(N):\n",
    "        if KT[i] != 0:\n",
    "            A.T[i] = A.T[i]/KT[i]\n",
    "        else:\n",
    "            A.T[i] = np.ones(N)/float(N)\n",
    "\n",
    "    S = np.ones((N, N))/N\n",
    "    G = (1-m)*A+m*S\n",
    "\n",
    "    return G"
   ]
  },
  {
   "cell_type": "markdown",
   "metadata": {},
   "source": [
    "In order to calculate the pagerank value of each node we will need to use the Power Method. We define it now"
   ]
  },
  {
   "cell_type": "code",
   "execution_count": 37,
   "metadata": {},
   "outputs": [],
   "source": [
    "@add_method(Graph)\n",
    "def Power_Method(self, m, n_iter):\n",
    "    G = self.google_matrix(m)\n",
    "    N = G.shape[0]\n",
    "    x0 = np.ones(N)/N\n",
    "\n",
    "    for i in range(n_iter):\n",
    "        x1 = np.copy(x0)\n",
    "        x0 = np.dot(G, x0)\n",
    "        \n",
    "        if np.sum(np.abs(x1-x0)) < 1e-10:\n",
    "            break\n",
    "\n",
    "    return x0"
   ]
  },
  {
   "cell_type": "markdown",
   "metadata": {},
   "source": [
    "For the sake of expediency, we will use a smaller version of the BA graph defined above"
   ]
  },
  {
   "cell_type": "code",
   "execution_count": 38,
   "metadata": {},
   "outputs": [],
   "source": [
    "BA = Graph.barabasi_albert_graph(1000)"
   ]
  },
  {
   "cell_type": "code",
   "execution_count": 39,
   "metadata": {},
   "outputs": [],
   "source": [
    "pagerank = BA.Power_Method(0.15, 100)"
   ]
  },
  {
   "cell_type": "markdown",
   "metadata": {},
   "source": [
    "And we compare it with the degree distribution"
   ]
  },
  {
   "cell_type": "code",
   "execution_count": 40,
   "metadata": {},
   "outputs": [],
   "source": [
    "deg = BA.degrees()"
   ]
  },
  {
   "cell_type": "code",
   "execution_count": 41,
   "metadata": {},
   "outputs": [
    {
     "data": {
      "image/png": "[encoded data removed]",
      "text/plain": [
       "<Figure size 792x576 with 1 Axes>"
      ]
     },
     "metadata": {
      "needs_background": "light"
     },
     "output_type": "display_data"
    }
   ],
   "source": [
    "data = []\n",
    "\n",
    "for node in range(1000):\n",
    "    data.append((deg[node], pagerank[node]))\n",
    "    \n",
    "data = np.array(data)\n",
    "plt.plot(data.T[0], data.T[1], '*')\n",
    "plt.xlabel('degree')\n",
    "plt.ylabel('pagerank')\n",
    "plt.gcf().set_size_inches(11, 8)"
   ]
  },
  {
   "cell_type": "markdown",
   "metadata": {},
   "source": [
    "As expected, it is strongly correlated with the degree (important pages are linked to by many other pages) but with important fluctuations due to the local network structure. These variations become even stronger in larger, directed graphs such as the WWW"
   ]
  },
  {
   "cell_type": "markdown",
   "metadata": {},
   "source": [
    "# Sampling Methods"
   ]
  },
  {
   "cell_type": "markdown",
   "metadata": {},
   "source": [
    "We also consider sampling approaches. These are often used when we must interact with some system (call an API, perform interviews, etc) to extract information about the network structure.\n",
    "\n",
    "We start with the random walk sampling. This is just a random walk on the graph as we saw above. "
   ]
  },
  {
   "cell_type": "code",
   "execution_count": 42,
   "metadata": {},
   "outputs": [],
   "source": [
    "@add_method(Graph)\n",
    "def random_walk_sample(self, source, maxsteps=1000):\n",
    "    seen = []\n",
    "    queue = source\n",
    "    \n",
    "    for _ in range(maxsteps+1):\n",
    "        user_id = queue\n",
    "        seen.append(user_id)\n",
    "\n",
    "        NN = list(self.neighbors(user_id))\n",
    "        \n",
    "        # Randomly select one of the neighbors\n",
    "        queue = NN[np.random.randint(len(NN))]\n",
    "\n",
    "    return seen"
   ]
  },
  {
   "cell_type": "markdown",
   "metadata": {},
   "source": [
    "On the other hand, snowball sampling returns a compact set of nodes that forms a denser connected component"
   ]
  },
  {
   "cell_type": "code",
   "execution_count": 43,
   "metadata": {},
   "outputs": [],
   "source": [
    "@add_method(Graph)\n",
    "def snowball_sample(self, source, max_depth = 3):\n",
    "    seen = set()\n",
    "    queue = set()\n",
    "\n",
    "    queue.add(source)\n",
    "    queue2 = set()\n",
    "\n",
    "    for _ in range(max_depth+1):\n",
    "        while queue:\n",
    "            user_id = queue.pop()\n",
    "            seen.add(user_id)\n",
    "\n",
    "            NN = self.neighbours(user_id)\n",
    "\n",
    "            for node in NN:\n",
    "                if node not in seen:\n",
    "                    queue2.add(node)\n",
    "\n",
    "        queue.update(queue2)\n",
    "        queue2 = set()\n",
    "\n",
    "    return seen"
   ]
  },
  {
   "cell_type": "markdown",
   "metadata": {},
   "source": [
    "In the simple case of the WS model it is easy to see the regular structure of the graph with just a few nodes returned"
   ]
  },
  {
   "cell_type": "code",
   "execution_count": 44,
   "metadata": {},
   "outputs": [],
   "source": [
    "seen = WS.snowball_sample(0)"
   ]
  },
  {
   "cell_type": "code",
   "execution_count": 45,
   "metadata": {},
   "outputs": [
    {
     "data": {
      "text/plain": [
       "{0, 1, 2, 3, 4, 5, 6, 29, 94, 95, 96, 97, 98, 99}"
      ]
     },
     "execution_count": 45,
     "metadata": {},
     "output_type": "execute_result"
    }
   ],
   "source": [
    "seen"
   ]
  },
  {
   "cell_type": "markdown",
   "metadata": {},
   "source": [
    "For comparison, we can also see how differnet the BA model is by performing a snowball sample with similar parameters "
   ]
  },
  {
   "cell_type": "code",
   "execution_count": 46,
   "metadata": {},
   "outputs": [],
   "source": [
    "seen = BA.snowball_sample(0)"
   ]
  },
  {
   "cell_type": "code",
   "execution_count": 47,
   "metadata": {},
   "outputs": [
    {
     "data": {
      "text/plain": [
       "568"
      ]
     },
     "execution_count": 47,
     "metadata": {},
     "output_type": "execute_result"
    }
   ],
   "source": [
    "len(seen)"
   ]
  },
  {
   "cell_type": "markdown",
   "metadata": {},
   "source": [
    "Here we recover almost the entirety of the graph. The reason for this is simple: in a graph with a broad tailed distribution we quickly reach one (or more) of the hubs that are connected to a significant portion of the total graph. "
   ]
  },
  {
   "cell_type": "markdown",
   "metadata": {},
   "source": [
    "<div style=\"width: 100%; overflow: hidden;\">\n",
    "     <img src=\"data/D4Sci_logo_full.png\" alt=\"Data For Science, Inc\" align=\"center\" border=\"0\" width=300px> \n",
    "</div>"
   ]
  }
 ],
 "metadata": {
  "kernelspec": {
   "display_name": "Python 3",
   "language": "python",
   "name": "python3"
  },
  "language_info": {
   "codemirror_mode": {
    "name": "ipython",
    "version": 3
   },
   "file_extension": ".py",
   "mimetype": "text/x-python",
   "name": "python",
   "nbconvert_exporter": "python",
   "pygments_lexer": "ipython3",
   "version": "3.7.3"
  }
 },
 "nbformat": 4,
 "nbformat_minor": 2
}
