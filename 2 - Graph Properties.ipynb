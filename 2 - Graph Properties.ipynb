{
 "cells": [
  {
   "cell_type": "markdown",
   "metadata": {},
   "source": [
    "<h1><div align=\"center\">Graphs and Networks</div></h1>\n",
    "<h2><div align=\"center\">Lesson II - Graph Properties</div></h2>\n",
    "<div align=\"center\">Bruno Gonçalves</div>\n",
    "<div align=\"center\"><a href=\"http://www.data4sci.com/\">www.data4sci.com</a></div>\n",
    "<div align=\"center\">@bgoncalves, @data4sci</div>"
   ]
  },
  {
   "cell_type": "code",
   "execution_count": 1,
   "metadata": {},
   "outputs": [],
   "source": [
    "from collections import Counter\n",
    "from pprint import pprint\n",
    "\n",
    "import numpy as np\n",
    "import matplotlib.pyplot as plt \n",
    "\n",
    "import watermark\n",
    "\n",
    "%load_ext watermark\n",
    "%matplotlib inline"
   ]
  },
  {
   "cell_type": "markdown",
   "metadata": {},
   "source": [
    "We start by print out the versions of the libraries we're using for future reference"
   ]
  },
  {
   "cell_type": "code",
   "execution_count": 2,
   "metadata": {},
   "outputs": [
    {
     "name": "stdout",
     "output_type": "stream",
     "text": [
      "numpy      1.16.2\n",
      "watermark  1.8.1\n",
      "matplotlib 3.1.0\n",
      "Mon Sep 16 2019 \n",
      "\n",
      "CPython 3.7.3\n",
      "IPython 6.2.1\n",
      "\n",
      "compiler   : Clang 4.0.1 (tags/RELEASE_401/final)\n",
      "system     : Darwin\n",
      "release    : 18.7.0\n",
      "machine    : x86_64\n",
      "processor  : i386\n",
      "CPU cores  : 8\n",
      "interpreter: 64bit\n",
      "Git hash   : 19857b5c7ba8156d3f9ea3cb73ddbd59768bfdb8\n"
     ]
    }
   ],
   "source": [
    "%watermark -n -v -m -g -iv"
   ]
  },
  {
   "cell_type": "markdown",
   "metadata": {},
   "source": [
    "# Graph class"
   ]
  },
  {
   "cell_type": "markdown",
   "metadata": {},
   "source": [
    "We now integrate our prefered graph representation into a class that we can build on. For now we provide it with just placeholders for our data"
   ]
  },
  {
   "cell_type": "code",
   "execution_count": 3,
   "metadata": {},
   "outputs": [],
   "source": [
    "class Graph:\n",
    "    def __init__(self, directed=False):\n",
    "        self._nodes = {}\n",
    "        self._edges = {}\n",
    "        self._directed = directed"
   ]
  },
  {
   "cell_type": "markdown",
   "metadata": {},
   "source": [
    "For ease of explanation, we will be adding methods to this class as we progress. To allow for this in a convenient way, we must declare a Python decorator that will be in charge of modifying the class as we implement further functionality"
   ]
  },
  {
   "cell_type": "markdown",
   "metadata": {},
   "source": [
    "Understanding this function is not important for the scope of the lecture, but if you are curious, you cna find more information on [Decorators](https://www.python.org/dev/peps/pep-0318/) and [setattr](https://docs.python.org/3/library/functions.html#setattr) in the offical Python documentation"
   ]
  },
  {
   "cell_type": "code",
   "execution_count": 4,
   "metadata": {},
   "outputs": [],
   "source": [
    "def add_method(cls):\n",
    "    def decorator(func):\n",
    "        setattr(cls, func.__name__, func)\n",
    "        return func\n",
    "    return decorator"
   ]
  },
  {
   "cell_type": "markdown",
   "metadata": {},
   "source": [
    "We can already instanciate our skeleton class"
   ]
  },
  {
   "cell_type": "code",
   "execution_count": 5,
   "metadata": {},
   "outputs": [],
   "source": [
    "G = Graph()"
   ]
  },
  {
   "cell_type": "markdown",
   "metadata": {},
   "source": [
    "and verify that it has nothing hiding inside other than the default Python methods and the fields we defined"
   ]
  },
  {
   "cell_type": "code",
   "execution_count": 6,
   "metadata": {},
   "outputs": [
    {
     "data": {
      "text/plain": [
       "['__class__',\n",
       " '__delattr__',\n",
       " '__dict__',\n",
       " '__dir__',\n",
       " '__doc__',\n",
       " '__eq__',\n",
       " '__format__',\n",
       " '__ge__',\n",
       " '__getattribute__',\n",
       " '__gt__',\n",
       " '__hash__',\n",
       " '__init__',\n",
       " '__init_subclass__',\n",
       " '__le__',\n",
       " '__lt__',\n",
       " '__module__',\n",
       " '__ne__',\n",
       " '__new__',\n",
       " '__reduce__',\n",
       " '__reduce_ex__',\n",
       " '__repr__',\n",
       " '__setattr__',\n",
       " '__sizeof__',\n",
       " '__str__',\n",
       " '__subclasshook__',\n",
       " '__weakref__',\n",
       " '_directed',\n",
       " '_edges',\n",
       " '_nodes']"
      ]
     },
     "execution_count": 6,
     "metadata": {},
     "output_type": "execute_result"
    }
   ],
   "source": [
    "dir(G)"
   ]
  },
  {
   "cell_type": "markdown",
   "metadata": {},
   "source": [
    "## Nodes"
   ]
  },
  {
   "cell_type": "markdown",
   "metadata": {},
   "source": [
    "Now we add our first utility methors. *add_node* will be responsible for adding a single node to the Graph, while *add_nodes_from* will prove useful to add nodes in bulk. We can also add node attributes by passing keyword arguments to any of these two functions"
   ]
  },
  {
   "cell_type": "code",
   "execution_count": 7,
   "metadata": {},
   "outputs": [],
   "source": [
    "@add_method(Graph)\n",
    "def add_node(self, node, **kwargs):\n",
    "    self._nodes[node] = kwargs\n",
    "    \n",
    "@add_method(Graph)\n",
    "def add_nodes_from(self, nodes, **kwargs):\n",
    "    for node in nodes:\n",
    "        if isinstance(node, tuple):\n",
    "            self._nodes[node[0]] = node[1:]\n",
    "        else:\n",
    "            self._nodes[node] = kwargs"
   ]
  },
  {
   "cell_type": "markdown",
   "metadata": {},
   "source": [
    "And we can now check that this added functionality is now available to our Graph"
   ]
  },
  {
   "cell_type": "code",
   "execution_count": 8,
   "metadata": {},
   "outputs": [
    {
     "data": {
      "text/plain": [
       "['__class__',\n",
       " '__delattr__',\n",
       " '__dict__',\n",
       " '__dir__',\n",
       " '__doc__',\n",
       " '__eq__',\n",
       " '__format__',\n",
       " '__ge__',\n",
       " '__getattribute__',\n",
       " '__gt__',\n",
       " '__hash__',\n",
       " '__init__',\n",
       " '__init_subclass__',\n",
       " '__le__',\n",
       " '__lt__',\n",
       " '__module__',\n",
       " '__ne__',\n",
       " '__new__',\n",
       " '__reduce__',\n",
       " '__reduce_ex__',\n",
       " '__repr__',\n",
       " '__setattr__',\n",
       " '__sizeof__',\n",
       " '__str__',\n",
       " '__subclasshook__',\n",
       " '__weakref__',\n",
       " '_directed',\n",
       " '_edges',\n",
       " '_nodes',\n",
       " 'add_node',\n",
       " 'add_nodes_from']"
      ]
     },
     "execution_count": 8,
     "metadata": {},
     "output_type": "execute_result"
    }
   ],
   "source": [
    "dir(G)"
   ]
  },
  {
   "cell_type": "markdown",
   "metadata": {},
   "source": [
    "And that they work as promised"
   ]
  },
  {
   "cell_type": "code",
   "execution_count": 9,
   "metadata": {},
   "outputs": [],
   "source": [
    "G.add_node(\"A\", color=\"blue\")"
   ]
  },
  {
   "cell_type": "markdown",
   "metadata": {},
   "source": [
    "And naturally"
   ]
  },
  {
   "cell_type": "code",
   "execution_count": 10,
   "metadata": {},
   "outputs": [
    {
     "data": {
      "text/plain": [
       "{'A': {'color': 'blue'}}"
      ]
     },
     "execution_count": 10,
     "metadata": {},
     "output_type": "execute_result"
    }
   ],
   "source": [
    "G._nodes"
   ]
  },
  {
   "cell_type": "code",
   "execution_count": 11,
   "metadata": {},
   "outputs": [],
   "source": [
    "G.add_nodes_from(\"ABC\", color='red')"
   ]
  },
  {
   "cell_type": "code",
   "execution_count": 12,
   "metadata": {},
   "outputs": [
    {
     "data": {
      "text/plain": [
       "{'A': {'color': 'red'}, 'B': {'color': 'red'}, 'C': {'color': 'red'}}"
      ]
     },
     "execution_count": 12,
     "metadata": {},
     "output_type": "execute_result"
    }
   ],
   "source": [
    "G._nodes"
   ]
  },
  {
   "cell_type": "markdown",
   "metadata": {},
   "source": [
    "Here it is important to note 2 things:\n",
    "\n",
    "- Since add_nodes_from expects the first argument to be a list of nodes, it treated each character of the string as an individual node\n",
    "- By adding the same node twice we overwrite the previous version."
   ]
  },
  {
   "cell_type": "markdown",
   "metadata": {},
   "source": [
    "# Edges"
   ]
  },
  {
   "cell_type": "markdown",
   "metadata": {},
   "source": [
    "Now we add the equivalent functionality for edges."
   ]
  },
  {
   "cell_type": "code",
   "execution_count": 13,
   "metadata": {},
   "outputs": [],
   "source": [
    "@add_method(Graph)\n",
    "def add_edge(self, node_i, node_j, **kwargs):\n",
    "    if node_i not in self._nodes:\n",
    "        self.add_node(node_i)\n",
    "    \n",
    "    if node_j not in self._nodes:\n",
    "        self.add_node(node_j)\n",
    "    \n",
    "    if node_i not in self._edges:\n",
    "        self._edges[node_i] = {}\n",
    "        \n",
    "    if node_j not in self._edges[node_i]:\n",
    "        self._edges[node_i][node_j] = {}\n",
    "        \n",
    "    self._edges[node_i][node_j] = kwargs\n",
    "    \n",
    "    if not self._directed:\n",
    "        if node_j not in self._edges:\n",
    "            self._edges[node_j] = {}\n",
    "\n",
    "        if node_i not in self._edges[node_j]:\n",
    "            self._edges[node_j][node_i] = {}\n",
    "\n",
    "        self._edges[node_j][node_i] = kwargs\n",
    "        \n",
    "@add_method(Graph)\n",
    "def add_edges_from(self, edges, **kwargs):\n",
    "    for edge in edges:\n",
    "        self.add_edge(*edge, **kwargs)"
   ]
  },
  {
   "cell_type": "markdown",
   "metadata": {},
   "source": [
    "Before we proceed, let us create a new Graph object"
   ]
  },
  {
   "cell_type": "code",
   "execution_count": 14,
   "metadata": {},
   "outputs": [],
   "source": [
    "G = Graph()"
   ]
  },
  {
   "cell_type": "markdown",
   "metadata": {},
   "source": [
    "And add the edges from the edge list we considered before"
   ]
  },
  {
   "cell_type": "code",
   "execution_count": 15,
   "metadata": {},
   "outputs": [],
   "source": [
    "edge_list = [\n",
    "    ('A', 'B'),\n",
    "    ('A', 'C'),\n",
    "    ('A', 'E'),\n",
    "    ('B', 'C'),\n",
    "    ('C', 'D'),\n",
    "    ('C', 'E'),\n",
    "    ('D', 'E')]"
   ]
  },
  {
   "cell_type": "code",
   "execution_count": 16,
   "metadata": {},
   "outputs": [],
   "source": [
    "G.add_edges_from(edge_list)"
   ]
  },
  {
   "cell_type": "markdown",
   "metadata": {},
   "source": [
    "And we can easily check that it looks correct, both for nodes and edges"
   ]
  },
  {
   "cell_type": "code",
   "execution_count": 17,
   "metadata": {},
   "outputs": [
    {
     "data": {
      "text/plain": [
       "{'A': {}, 'B': {}, 'C': {}, 'D': {}, 'E': {}}"
      ]
     },
     "execution_count": 17,
     "metadata": {},
     "output_type": "execute_result"
    }
   ],
   "source": [
    "G._nodes"
   ]
  },
  {
   "cell_type": "code",
   "execution_count": 18,
   "metadata": {},
   "outputs": [
    {
     "data": {
      "text/plain": [
       "{'A': {'B': {}, 'C': {}, 'E': {}},\n",
       " 'B': {'A': {}, 'C': {}},\n",
       " 'C': {'A': {}, 'B': {}, 'D': {}, 'E': {}},\n",
       " 'D': {'C': {}, 'E': {}},\n",
       " 'E': {'A': {}, 'C': {}, 'D': {}}}"
      ]
     },
     "execution_count": 18,
     "metadata": {},
     "output_type": "execute_result"
    }
   ],
   "source": [
    "G._edges"
   ]
  },
  {
   "cell_type": "markdown",
   "metadata": {},
   "source": [
    "For Completeness, we add a function to return a list of all the edges and their attributes (if any)"
   ]
  },
  {
   "cell_type": "code",
   "execution_count": 19,
   "metadata": {},
   "outputs": [],
   "source": [
    "@add_method(Graph)\n",
    "def edges(self):\n",
    "    e = []\n",
    "    \n",
    "    for node_i in self._edges:\n",
    "        for node_j in self._edges[node_i]:\n",
    "            e.append([node_i, node_j, self._edges[node_i][node_j]])\n",
    "            \n",
    "    return e"
   ]
  },
  {
   "cell_type": "markdown",
   "metadata": {},
   "source": [
    "So we recover the undirected version of the edge list we started with"
   ]
  },
  {
   "cell_type": "code",
   "execution_count": 20,
   "metadata": {},
   "outputs": [
    {
     "data": {
      "text/plain": [
       "[['A', 'B', {}],\n",
       " ['A', 'C', {}],\n",
       " ['A', 'E', {}],\n",
       " ['B', 'A', {}],\n",
       " ['B', 'C', {}],\n",
       " ['C', 'A', {}],\n",
       " ['C', 'B', {}],\n",
       " ['C', 'D', {}],\n",
       " ['C', 'E', {}],\n",
       " ['E', 'A', {}],\n",
       " ['E', 'C', {}],\n",
       " ['E', 'D', {}],\n",
       " ['D', 'C', {}],\n",
       " ['D', 'E', {}]]"
      ]
     },
     "execution_count": 20,
     "metadata": {},
     "output_type": "execute_result"
    }
   ],
   "source": [
    "G.edges()"
   ]
  },
  {
   "cell_type": "markdown",
   "metadata": {},
   "source": [
    "## Graph properties"
   ]
  },
  {
   "cell_type": "markdown",
   "metadata": {},
   "source": [
    "Now that we have a minimally functional Graph object, we can start implementing functionality to retrieve information about the Graph."
   ]
  },
  {
   "cell_type": "markdown",
   "metadata": {},
   "source": [
    "### Node information"
   ]
  },
  {
   "cell_type": "markdown",
   "metadata": {},
   "source": [
    "Obtaining the number of nodes is simple enough:"
   ]
  },
  {
   "cell_type": "code",
   "execution_count": 21,
   "metadata": {},
   "outputs": [],
   "source": [
    "@add_method(Graph)\n",
    "def number_of_nodes(self):\n",
    "    return len(self._nodes)"
   ]
  },
  {
   "cell_type": "markdown",
   "metadata": {},
   "source": [
    "So we confirm that we have 5 nodes as expected"
   ]
  },
  {
   "cell_type": "code",
   "execution_count": 22,
   "metadata": {},
   "outputs": [
    {
     "data": {
      "text/plain": [
       "5"
      ]
     },
     "execution_count": 22,
     "metadata": {},
     "output_type": "execute_result"
    }
   ],
   "source": [
    "G.number_of_nodes()"
   ]
  },
  {
   "cell_type": "markdown",
   "metadata": {},
   "source": [
    "And to retrieve the degree of each node one must simply check the number of corresponding entries in the edge dictionary"
   ]
  },
  {
   "cell_type": "code",
   "execution_count": 23,
   "metadata": {},
   "outputs": [],
   "source": [
    "@add_method(Graph)\n",
    "def degrees(self):\n",
    "    deg = {}\n",
    "    \n",
    "    for node in self._nodes:\n",
    "        if node in self._edges:\n",
    "            deg[node] =  len(self._edges[node])\n",
    "        else:\n",
    "            deg[node] = 0\n",
    "    \n",
    "    return deg"
   ]
  },
  {
   "cell_type": "markdown",
   "metadata": {},
   "source": [
    "With the expected results"
   ]
  },
  {
   "cell_type": "code",
   "execution_count": 24,
   "metadata": {},
   "outputs": [
    {
     "data": {
      "text/plain": [
       "{'A': 3, 'B': 2, 'C': 4, 'D': 2, 'E': 3}"
      ]
     },
     "execution_count": 24,
     "metadata": {},
     "output_type": "execute_result"
    }
   ],
   "source": [
    "G.degrees()"
   ]
  },
  {
   "cell_type": "markdown",
   "metadata": {},
   "source": [
    "### Edge Information"
   ]
  },
  {
   "cell_type": "markdown",
   "metadata": {},
   "source": [
    "The number of edges is simply given by:"
   ]
  },
  {
   "cell_type": "code",
   "execution_count": 25,
   "metadata": {},
   "outputs": [],
   "source": [
    "@add_method(Graph)\n",
    "def number_of_edges(self):\n",
    "    n_edges = 0\n",
    "    \n",
    "    for node_i in self._edges:\n",
    "        n_edges += len(self._edges[node_i])\n",
    "    \n",
    "    # If the graph is undirected, don't double count the edges\n",
    "    if not self._directed:\n",
    "        n_edges /= 2\n",
    "    \n",
    "    return n_edges"
   ]
  },
  {
   "cell_type": "markdown",
   "metadata": {},
   "source": [
    "And so we find, as expected"
   ]
  },
  {
   "cell_type": "code",
   "execution_count": 26,
   "metadata": {},
   "outputs": [
    {
     "data": {
      "text/plain": [
       "7.0"
      ]
     },
     "execution_count": 26,
     "metadata": {},
     "output_type": "execute_result"
    }
   ],
   "source": [
    "G.number_of_edges()"
   ]
  },
  {
   "cell_type": "markdown",
   "metadata": {},
   "source": [
    "We also add a conveniency method to check if the graph id directed"
   ]
  },
  {
   "cell_type": "code",
   "execution_count": 27,
   "metadata": {},
   "outputs": [],
   "source": [
    "@add_method(Graph)\n",
    "def is_directed(self):\n",
    "    return self._directed"
   ]
  },
  {
   "cell_type": "markdown",
   "metadata": {},
   "source": [
    "### Weights"
   ]
  },
  {
   "cell_type": "markdown",
   "metadata": {},
   "source": [
    "As we saw, each edge can potentially have a weight associated with it (it defaults to 1). We also provide a function to recover a dictionary mapping edges to weights"
   ]
  },
  {
   "cell_type": "code",
   "execution_count": 28,
   "metadata": {},
   "outputs": [],
   "source": [
    "@add_method(Graph)\n",
    "def weights(self, weight=\"weight\"):\n",
    "    w = {}\n",
    "    \n",
    "    for node_i in self._edges:\n",
    "        for node_j in self._edges[node_i]:\n",
    "            if weight in self._edges[node_i][node_j]:\n",
    "                w[(node_i, node_j)] = self._edges[node_i][node_j][weight]\n",
    "            else:\n",
    "                w[(node_i, node_j)] = 1\n",
    "    return w"
   ]
  },
  {
   "cell_type": "markdown",
   "metadata": {},
   "source": [
    "As we didn't explicitly include any weight information in our graph, we find that all the weights are 1"
   ]
  },
  {
   "cell_type": "code",
   "execution_count": 29,
   "metadata": {},
   "outputs": [
    {
     "data": {
      "text/plain": [
       "{('A', 'B'): 1,\n",
       " ('A', 'C'): 1,\n",
       " ('A', 'E'): 1,\n",
       " ('B', 'A'): 1,\n",
       " ('B', 'C'): 1,\n",
       " ('C', 'A'): 1,\n",
       " ('C', 'B'): 1,\n",
       " ('C', 'D'): 1,\n",
       " ('C', 'E'): 1,\n",
       " ('D', 'C'): 1,\n",
       " ('D', 'E'): 1,\n",
       " ('E', 'A'): 1,\n",
       " ('E', 'C'): 1,\n",
       " ('E', 'D'): 1}"
      ]
     },
     "execution_count": 29,
     "metadata": {},
     "output_type": "execute_result"
    }
   ],
   "source": [
    "G.weights()"
   ]
  },
  {
   "cell_type": "markdown",
   "metadata": {},
   "source": [
    "### Topology and Correlations"
   ]
  },
  {
   "cell_type": "markdown",
   "metadata": {},
   "source": [
    "One particularly useful property of a graph is the list of nearest neighbors of a given node. With our formulation, this is particularly simple to implement"
   ]
  },
  {
   "cell_type": "code",
   "execution_count": 30,
   "metadata": {},
   "outputs": [],
   "source": [
    "@add_method(Graph)\n",
    "def neighbours(self, node):\n",
    "    return list(self._edges[node].keys())"
   ]
  },
  {
   "cell_type": "markdown",
   "metadata": {},
   "source": [
    "So we find that node **C** has as nearest neighbours nodes **A**, **B**, **D**, **E**"
   ]
  },
  {
   "cell_type": "code",
   "execution_count": 31,
   "metadata": {},
   "outputs": [
    {
     "data": {
      "text/plain": [
       "['A', 'B', 'D', 'E']"
      ]
     },
     "execution_count": 31,
     "metadata": {},
     "output_type": "execute_result"
    }
   ],
   "source": [
    "G.neighbours('C')"
   ]
  },
  {
   "cell_type": "markdown",
   "metadata": {},
   "source": [
    "We are also intersted in the degree and weight distributions. Before we can compute them, we define a utility function to generate a probability distribution from a dictionary of values"
   ]
  },
  {
   "cell_type": "code",
   "execution_count": 32,
   "metadata": {},
   "outputs": [],
   "source": [
    "@add_method(Graph)\n",
    "def _build_distribution(data, normalize=True):\n",
    "    values = data.values()\n",
    "    dist = list(Counter(values).items())\n",
    "    dist.sort(key=lambda x:x[0])\n",
    "    dist = np.array(dist, dtype='float')\n",
    "           \n",
    "    if normalize:\n",
    "        norm = dist.T[1].sum()\n",
    "        dist.T[1] /= norm\n",
    "    \n",
    "    return dist"
   ]
  },
  {
   "cell_type": "markdown",
   "metadata": {},
   "source": [
    "By default the probability distribution is normalized such that the sum of all values is 1. Using this utility function it is now easy to calculate the degree distribution"
   ]
  },
  {
   "cell_type": "code",
   "execution_count": 33,
   "metadata": {},
   "outputs": [],
   "source": [
    "@add_method(Graph)\n",
    "def degree_distribution(self, normalize=True):\n",
    "    deg = self.degrees()\n",
    "    dist = Graph._build_distribution(deg, normalize)\n",
    "    \n",
    "    return dist"
   ]
  },
  {
   "cell_type": "markdown",
   "metadata": {},
   "source": [
    "The degree distribution for our Graph is then:"
   ]
  },
  {
   "cell_type": "code",
   "execution_count": 34,
   "metadata": {},
   "outputs": [
    {
     "data": {
      "text/plain": [
       "array([[2., 2.],\n",
       "       [3., 2.],\n",
       "       [4., 1.]])"
      ]
     },
     "execution_count": 34,
     "metadata": {},
     "output_type": "execute_result"
    }
   ],
   "source": [
    "G.degree_distribution(False)"
   ]
  },
  {
   "cell_type": "markdown",
   "metadata": {},
   "source": [
    "Where we can see that we have 2 nodes of both degree 2 and 3 and 1 of degree 4."
   ]
  },
  {
   "cell_type": "markdown",
   "metadata": {},
   "source": [
    "Similarly, for the weight distribution"
   ]
  },
  {
   "cell_type": "code",
   "execution_count": 35,
   "metadata": {},
   "outputs": [],
   "source": [
    "@add_method(Graph)\n",
    "def weight_distribution(self, normalize=True):\n",
    "    deg = self.weights()\n",
    "    dist = Graph._build_distribution(deg, normalize)\n",
    "    \n",
    "    return dist\n"
   ]
  },
  {
   "cell_type": "markdown",
   "metadata": {},
   "source": [
    "And we naturally find that all of our edges have weight 1."
   ]
  },
  {
   "cell_type": "code",
   "execution_count": 36,
   "metadata": {},
   "outputs": [
    {
     "data": {
      "text/plain": [
       "array([[1., 1.]])"
      ]
     },
     "execution_count": 36,
     "metadata": {},
     "output_type": "execute_result"
    }
   ],
   "source": [
    "G.weight_distribution()"
   ]
  },
  {
   "cell_type": "markdown",
   "metadata": {},
   "source": [
    "We now calculate the average degree of the nearest neighbours for each node."
   ]
  },
  {
   "cell_type": "code",
   "execution_count": 37,
   "metadata": {},
   "outputs": [],
   "source": [
    "@add_method(Graph)\n",
    "def neighbour_degree(self):\n",
    "    knn = {}\n",
    "    deg = self.degrees()\n",
    "    \n",
    "    for node_i in self._edges:\n",
    "        NN = self.neighbours(node_i)\n",
    "        total = [deg[node_j] for node_j in NN]\n",
    "        knn[node_i] = np.mean(total)\n",
    "        \n",
    "    return knn"
   ]
  },
  {
   "cell_type": "code",
   "execution_count": 38,
   "metadata": {},
   "outputs": [
    {
     "data": {
      "text/plain": [
       "{'A': 3.0, 'B': 3.5, 'C': 2.5, 'D': 3.5, 'E': 3.0}"
      ]
     },
     "execution_count": 38,
     "metadata": {},
     "output_type": "execute_result"
    }
   ],
   "source": [
    "G.neighbour_degree()"
   ]
  },
  {
   "cell_type": "markdown",
   "metadata": {},
   "source": [
    "And the distribution by degree:"
   ]
  },
  {
   "cell_type": "code",
   "execution_count": 39,
   "metadata": {},
   "outputs": [],
   "source": [
    "@add_method(Graph)\n",
    "def neighbour_degree_function(self):\n",
    "    knn = {}\n",
    "    count = {}\n",
    "    deg = self.degrees()\n",
    "    \n",
    "    for node_i in self._edges:\n",
    "        NN = self.neighbours(node_i)\n",
    "        total = [deg[node_j] for node_j in NN]\n",
    "        \n",
    "        curr_k = deg[node_i]\n",
    "        knn[curr_k] = knn.get(curr_k, 0) + np.mean(total)\n",
    "        count[curr_k] = count.get(curr_k, 0) + 1\n",
    "        \n",
    "    for curr_k in knn:\n",
    "        knn[curr_k]/=count[curr_k]\n",
    "    \n",
    "    knn = list(knn.items())\n",
    "    knn.sort(key=lambda x:x[0])\n",
    "    \n",
    "    return np.array(knn)"
   ]
  },
  {
   "cell_type": "markdown",
   "metadata": {},
   "source": [
    "From which we obtain:"
   ]
  },
  {
   "cell_type": "code",
   "execution_count": 40,
   "metadata": {},
   "outputs": [
    {
     "data": {
      "text/plain": [
       "array([[2. , 3.5],\n",
       "       [3. , 3. ],\n",
       "       [4. , 2.5]])"
      ]
     },
     "execution_count": 40,
     "metadata": {},
     "output_type": "execute_result"
    }
   ],
   "source": [
    "G.neighbour_degree_function()"
   ]
  },
  {
   "cell_type": "markdown",
   "metadata": {},
   "source": [
    "# Zachary Karate Club"
   ]
  },
  {
   "cell_type": "markdown",
   "metadata": {},
   "source": [
    "J. Anthro. Res. 33, 452 (1977)"
   ]
  },
  {
   "cell_type": "markdown",
   "metadata": {},
   "source": [
    "Let's now look at an empirical Graph"
   ]
  },
  {
   "cell_type": "markdown",
   "metadata": {},
   "source": [
    "For convenience, we load the data from a file using numpy"
   ]
  },
  {
   "cell_type": "code",
   "execution_count": 41,
   "metadata": {},
   "outputs": [],
   "source": [
    "edges = np.loadtxt('data/karate.txt')"
   ]
  },
  {
   "cell_type": "markdown",
   "metadata": {},
   "source": [
    "Now we can use the functions defined above to generate the corresponding graph"
   ]
  },
  {
   "cell_type": "code",
   "execution_count": 42,
   "metadata": {},
   "outputs": [],
   "source": [
    "Karate = Graph()"
   ]
  },
  {
   "cell_type": "code",
   "execution_count": 43,
   "metadata": {},
   "outputs": [],
   "source": [
    "Karate.add_edges_from(edges)"
   ]
  },
  {
   "cell_type": "markdown",
   "metadata": {},
   "source": [
    "Our graph has 34 nodes"
   ]
  },
  {
   "cell_type": "code",
   "execution_count": 44,
   "metadata": {},
   "outputs": [
    {
     "data": {
      "text/plain": [
       "34"
      ]
     },
     "execution_count": 44,
     "metadata": {},
     "output_type": "execute_result"
    }
   ],
   "source": [
    "Karate.number_of_nodes()"
   ]
  },
  {
   "cell_type": "markdown",
   "metadata": {},
   "source": [
    "And 78 edges"
   ]
  },
  {
   "cell_type": "code",
   "execution_count": 45,
   "metadata": {},
   "outputs": [
    {
     "data": {
      "text/plain": [
       "78.0"
      ]
     },
     "execution_count": 45,
     "metadata": {},
     "output_type": "execute_result"
    }
   ],
   "source": [
    "Karate.number_of_edges()"
   ]
  },
  {
   "cell_type": "markdown",
   "metadata": {},
   "source": [
    "The degree distribution is:"
   ]
  },
  {
   "cell_type": "code",
   "execution_count": 46,
   "metadata": {},
   "outputs": [],
   "source": [
    "Pk = Karate.degree_distribution()"
   ]
  },
  {
   "cell_type": "markdown",
   "metadata": {},
   "source": [
    "Which we can plot easily"
   ]
  },
  {
   "cell_type": "code",
   "execution_count": 47,
   "metadata": {},
   "outputs": [
    {
     "data": {
      "image/png": "[encoded data removed]",
      "text/plain": [
       "<Figure size 792x576 with 1 Axes>"
      ]
     },
     "metadata": {
      "needs_background": "light"
     },
     "output_type": "display_data"
    }
   ],
   "source": [
    "plt.plot(Pk.T[0], Pk.T[1])\n",
    "plt.xlabel('k')\n",
    "plt.ylabel('P[k]')\n",
    "plt.gcf().set_size_inches(11, 8)"
   ]
  },
  {
   "cell_type": "markdown",
   "metadata": {},
   "source": [
    "The average degree of the nearest neighbours as a function of the degree is:"
   ]
  },
  {
   "cell_type": "code",
   "execution_count": 48,
   "metadata": {},
   "outputs": [],
   "source": [
    "knn = Karate.neighbour_degree_function()"
   ]
  },
  {
   "cell_type": "markdown",
   "metadata": {},
   "source": [
    "Which we plot as well"
   ]
  },
  {
   "cell_type": "code",
   "execution_count": 49,
   "metadata": {},
   "outputs": [
    {
     "data": {
      "image/png": "[encoded data removed]",
      "text/plain": [
       "<Figure size 792x576 with 1 Axes>"
      ]
     },
     "metadata": {
      "needs_background": "light"
     },
     "output_type": "display_data"
    }
   ],
   "source": [
    "plt.plot(knn.T[0], knn.T[1])\n",
    "plt.xlabel('k')\n",
    "plt.ylabel(r'$\\langle K_{nn}[k] \\rangle$')\n",
    "plt.gcf().set_size_inches(11, 8)"
   ]
  },
  {
   "cell_type": "markdown",
   "metadata": {},
   "source": [
    "Finally, before we proceed to the next nodebook, we save the current state of our Graph class. For this we use some Jupyter Notebook magic. It's not important to understand this, but you can read about it in the [Jupyter notebook](https://jupyter-notebook.readthedocs.io/en/stable/examples/Notebook/Importing%20Notebooks.html) documentation."
   ]
  },
  {
   "cell_type": "code",
   "execution_count": 50,
   "metadata": {},
   "outputs": [],
   "source": [
    "def export_class(path, filename):\n",
    "    import io\n",
    "    from nbformat import read\n",
    "\n",
    "    with io.open(path, 'r', encoding='utf-8') as f:\n",
    "        nb = read(f, 4)\n",
    "\n",
    "    fp = open(filename, \"wt\")\n",
    "\n",
    "    for cell in nb.cells:\n",
    "        if cell.cell_type == 'code':\n",
    "            first_line = cell.source.split('\\n')[0]\n",
    "            \n",
    "            if \"class \" in first_line or \"add_method\" in first_line in first_line:\n",
    "                print(cell.source, file=fp)\n",
    "\n",
    "                print(\"\\n\", file=fp)\n",
    "\n",
    "    fp.close()"
   ]
  },
  {
   "cell_type": "markdown",
   "metadata": {},
   "source": [
    "Suffice it to say, that after this line, we'll have a Python module called \"Graph.py\" containing all the methors in our Graph class"
   ]
  },
  {
   "cell_type": "code",
   "execution_count": 51,
   "metadata": {},
   "outputs": [],
   "source": [
    "export_class('2 - Graph Properties.ipynb', 'Graph.py')"
   ]
  }
 ],
 "metadata": {
  "kernelspec": {
   "display_name": "Python 3",
   "language": "python",
   "name": "python3"
  },
  "language_info": {
   "codemirror_mode": {
    "name": "ipython",
    "version": 3
   },
   "file_extension": ".py",
   "mimetype": "text/x-python",
   "name": "python",
   "nbconvert_exporter": "python",
   "pygments_lexer": "ipython3",
   "version": "3.7.3"
  }
 },
 "nbformat": 4,
 "nbformat_minor": 2
}
